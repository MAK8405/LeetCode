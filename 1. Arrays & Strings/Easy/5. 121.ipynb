{
 "cells": [
  {
   "cell_type": "markdown",
   "metadata": {},
   "source": [
    "### LeetCode 121. Best Time to Buy and Sell Stock\n",
    "\n",
    "**Problem Link:**  \n",
    "[https://leetcode.com/problems/best-time-to-buy-and-sell-stock/](https://leetcode.com/problems/best-time-to-buy-and-sell-stock/)\n",
    "\n",
    "**Problem Statement:**  \n",
    "You are given an array `prices` where `prices[i]` is the price of a given stock on the `i`th day.\n",
    "\n",
    "You want to maximize your profit by choosing a single day to buy one stock and choosing a different day in the future to sell that stock.\n",
    "\n",
    "Return the maximum profit you can achieve from this transaction. If you cannot achieve any profit, return `0`.\n",
    "\n",
    "---\n",
    "\n",
    "**Example 1:**  \n",
    "\n",
    "**Input:**  \n",
    "`prices = [7,1,5,3,6,4]`  \n",
    "\n",
    "**Output:**  \n",
    "`5`  \n",
    "\n",
    "**Explanation:**  \n",
    "Buy on day 2 (price = 1) and sell on day 5 (price = 6), profit = 6 - 1 = 5.  \n",
    "Note that buying on day 2 and selling on day 1 is not allowed because you must buy before you sell.\n",
    "\n",
    "---\n",
    "\n",
    "**Example 2:**  \n",
    "\n",
    "**Input:**  \n",
    "`prices = [7,6,4,3,1]`  \n",
    "\n",
    "**Output:**  \n",
    "`0`  \n",
    "\n",
    "**Explanation:**  \n",
    "In this case, no transactions are done and the max profit = 0.\n",
    "\n",
    "---\n",
    "\n",
    "**Constraints:**  \n",
    "- `1 <= prices.length <= 10^5`  \n",
    "- `0 <= prices[i] <= 10^4`\n"
   ]
  },
  {
   "cell_type": "code",
   "execution_count": null,
   "metadata": {},
   "outputs": [],
   "source": [
    "from typing import List\n",
    "\n",
    "\n",
    "class Solution:\n",
    "    def maxProfit(self, prices: List[int]) -> int:\n",
    "        # Time: O(n)\n",
    "        # Space: O(1)\n",
    "        minPrice = float(\"inf\")\n",
    "        maxProfit = 0\n",
    "\n",
    "        for price in prices:\n",
    "            if price < minPrice:\n",
    "                minPrice = price\n",
    "\n",
    "            profit = price - minPrice\n",
    "\n",
    "            if profit > maxProfit:\n",
    "                maxProfit = profit\n",
    "\n",
    "        return maxProfit"
   ]
  }
 ],
 "metadata": {
  "language_info": {
   "name": "python"
  }
 },
 "nbformat": 4,
 "nbformat_minor": 2
}
