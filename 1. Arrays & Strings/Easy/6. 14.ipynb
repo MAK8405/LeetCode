{
 "cells": [
  {
   "cell_type": "markdown",
   "metadata": {},
   "source": [
    "### LeetCode 14. Longest Common Prefix\n",
    "\n",
    "**Problem Link:**  \n",
    "[https://leetcode.com/problems/longest-common-prefix/](https://leetcode.com/problems/longest-common-prefix/)\n",
    "\n",
    "**Problem Statement:**  \n",
    "Write a function to find the longest common prefix string amongst an array of strings.\n",
    "\n",
    "If there is no common prefix, return an empty string `\"\"`.\n",
    "\n",
    "---\n",
    "\n",
    "**Example 1:**  \n",
    "\n",
    "**Input:**  \n",
    "`strs = [\"flower\",\"flow\",\"flight\"]`  \n",
    "\n",
    "**Output:**  \n",
    "`\"fl\"`  \n",
    "\n",
    "---\n",
    "\n",
    "**Example 2:**  \n",
    "\n",
    "**Input:**  \n",
    "`strs = [\"dog\",\"racecar\",\"car\"]`  \n",
    "\n",
    "**Output:**  \n",
    "`\"\"`  \n",
    "\n",
    "**Explanation:**  \n",
    "There is no common prefix among the input strings.\n",
    "\n",
    "---\n",
    "\n",
    "**Constraints:**  \n",
    "- `1 <= strs.length <= 200`  \n",
    "- `0 <= strs[i].length <= 200`  \n",
    "- `strs[i]` consists of only lowercase English letters if it is non-empty.\n"
   ]
  },
  {
   "cell_type": "code",
   "execution_count": null,
   "metadata": {},
   "outputs": [],
   "source": [
    "from typing import List\n",
    "\n",
    " \n",
    "class Solution:\n",
    "    def longestCommonPrefix(self, strs: List[str]) -> str:\n",
    "        min_length = float(\"inf\")\n",
    "\n",
    "        for s in strs:\n",
    "            if len(s) < min_length:\n",
    "                min_length = len(s)\n",
    "\n",
    "        i = 0\n",
    "        while i < min_length:\n",
    "            for s in strs:\n",
    "                if s[i] != strs[0][i]:\n",
    "                    return s[:i]\n",
    "            i += 1\n",
    "\n",
    "        return strs[0][:i]\n",
    "        # Time: O(n * m) where n is the number of strings, m is the min word length\n",
    "        # Space: O(1)"
   ]
  }
 ],
 "metadata": {
  "language_info": {
   "name": "python"
  }
 },
 "nbformat": 4,
 "nbformat_minor": 2
}
