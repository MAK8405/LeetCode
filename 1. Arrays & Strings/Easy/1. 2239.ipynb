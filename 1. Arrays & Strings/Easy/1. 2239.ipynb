{
 "cells": [
  {
   "cell_type": "markdown",
   "metadata": {},
   "source": [
    "### LeetCode 2239. Find Closest Number to Zero\n",
    "\n",
    "**Problem Link:**  \n",
    "[https://leetcode.com/problems/find-closest-number-to-zero/](https://leetcode.com/problems/find-closest-number-to-zero/)\n",
    "\n",
    "**Problem Statement:**  \n",
    "Given an integer array `nums` of size `n`, return the number with the value closest to 0 in `nums`. If there are multiple answers, return the number with the largest value.\n",
    "\n",
    "---\n",
    "\n",
    "**Example 1:**\n",
    "\n",
    "**Input:**  \n",
    "`nums = [-4,-2,1,4,8]`\n",
    "\n",
    "**Output:**  \n",
    "`1`\n",
    "\n",
    "**Explanation:**  \n",
    "The distance from -4 to 0 is `|-4| = 4`.  \n",
    "The distance from -2 to 0 is `|-2| = 2`.  \n",
    "The distance from 1 to 0 is `|1| = 1`.  \n",
    "The distance from 4 to 0 is `|4| = 4`.  \n",
    "The distance from 8 to 0 is `|8| = 8`.  \n",
    "Thus, the closest number to 0 in the array is 1.\n",
    "\n",
    "---\n",
    "\n",
    "**Example 2:**\n",
    "\n",
    "**Input:**  \n",
    "`nums = [2,-1,1]`\n",
    "\n",
    "**Output:**  \n",
    "`1`\n",
    "\n",
    "**Explanation:**  \n",
    "1 and -1 are both the closest numbers to 0, so 1 being larger is returned.\n",
    "\n",
    "---\n",
    "\n",
    "**Constraints:**  \n",
    "- `1 <= n <= 1000`  \n",
    "- `-10^5 <= nums[i] <= 10^5`"
   ]
  },
  {
   "cell_type": "code",
   "execution_count": null,
   "metadata": {},
   "outputs": [],
   "source": [
    "from typing import List\n",
    "\n",
    "\n",
    "class Solution:\n",
    "    def findClosestNumber(self, nums: List[int]) -> int:\n",
    "        # We can guarantee this number does exist in the array, since in constraints n is at least 1\n",
    "        closest = nums[0]\n",
    "        for x in nums:\n",
    "            if abs(x) < abs(closest):\n",
    "                closest = x\n",
    "\n",
    "        if closest < 0 and abs(closest) in nums:\n",
    "            return abs(closest)\n",
    "        else:\n",
    "            return closest\n",
    "        # Time: O(n) -> In line 5 we loop over the array and line 6 and 7 is constant and again in line 9 we loop over the    array again (in nums:) so this is O(2n) = O(n)\n",
    "        # Space: O(1)"
   ]
  }
 ],
 "metadata": {
  "language_info": {
   "name": "python"
  }
 },
 "nbformat": 4,
 "nbformat_minor": 2
}
